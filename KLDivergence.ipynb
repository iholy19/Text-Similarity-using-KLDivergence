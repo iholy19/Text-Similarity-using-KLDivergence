{
 "cells": [
  {
   "cell_type": "markdown",
   "id": "70cb6c8b",
   "metadata": {},
   "source": [
    "# Title : Finding similarity between 2 sentences using KL divergence\n",
    "### KL Divergence\n",
    "Given 2 data distributions or probability distributions, KL divergence is used in finding how much distribution 1 differs from distribution 2. <br>\n",
    "It is calculated using the below formula,<br>\n",
    "- KL(p,q) = sum(p(x_i) * log(p(x_i)/q(x_i)))<br>\n",
    "\n",
    "Here we have used spacy and nltk libraries to preprocess the sentences and create a data distribution. Then we applied the KL divergence on the 2 distributions of the sentences\n",
    "\n",
    "### Properties of KL divergence\n",
    "- It does not say about the distance between 2 distributions\n",
    "- KL(P,Q) ≠ KL(Q,P)\n",
    "- The KL(P,Q) is defined only when at any x, p(x) exists and ≠ 0\n"
   ]
  },
  {
   "cell_type": "markdown",
   "id": "aca8e8c2",
   "metadata": {},
   "source": [
    "## Importing necessary libraries"
   ]
  },
  {
   "cell_type": "code",
   "execution_count": 1659,
   "id": "ae7dfea6",
   "metadata": {},
   "outputs": [],
   "source": [
    "import spacy\n",
    "from collections import Counter\n",
    "import numpy as np\n",
    "from nltk.corpus import wordnet as wn\n",
    "from nltk.tokenize import word_tokenize\n",
    "from matplotlib import pyplot as plt\n",
    "from pprint import pprint"
   ]
  },
  {
   "cell_type": "code",
   "execution_count": 1660,
   "id": "23af9683",
   "metadata": {},
   "outputs": [
    {
     "name": "stderr",
     "output_type": "stream",
     "text": [
      "[nltk_data] Downloading package wordnet to\n",
      "[nltk_data]     /Users/sameeraholysheikabdullah/nltk_data...\n",
      "[nltk_data]   Package wordnet is already up-to-date!\n",
      "[nltk_data] Downloading package averaged_perceptron_tagger to\n",
      "[nltk_data]     /Users/sameeraholysheikabdullah/nltk_data...\n",
      "[nltk_data]   Package averaged_perceptron_tagger is already up-to-\n",
      "[nltk_data]       date!\n",
      "[nltk_data] Downloading package punkt to\n",
      "[nltk_data]     /Users/sameeraholysheikabdullah/nltk_data...\n",
      "[nltk_data]   Package punkt is already up-to-date!\n",
      "[nltk_data] Downloading package universal_tagset to\n",
      "[nltk_data]     /Users/sameeraholysheikabdullah/nltk_data...\n",
      "[nltk_data]   Package universal_tagset is already up-to-date!\n"
     ]
    },
    {
     "data": {
      "text/plain": [
       "True"
      ]
     },
     "execution_count": 1660,
     "metadata": {},
     "output_type": "execute_result"
    }
   ],
   "source": [
    "import nltk\n",
    "nltk.download(\"wordnet\")\n",
    "nltk.download('averaged_perceptron_tagger')\n",
    "nltk.download('punkt')\n",
    "nltk.download('universal_tagset')"
   ]
  },
  {
   "cell_type": "code",
   "execution_count": 1661,
   "id": "ac0e7f0f",
   "metadata": {},
   "outputs": [],
   "source": [
    "nlp = spacy.load(\"en_core_web_sm\")"
   ]
  },
  {
   "cell_type": "markdown",
   "id": "d258216a",
   "metadata": {},
   "source": [
    "## Removing StopWords\n",
    "Stopwords are commonly used words in english like is, a, the, an, with, by, ........"
   ]
  },
  {
   "cell_type": "code",
   "execution_count": 1662,
   "id": "2a7e79b0",
   "metadata": {},
   "outputs": [],
   "source": [
    "def remove_stop_words(sentence,pos):\n",
    "    new_text = [(nlp(sentence)[i],pos[i][1]) for i in range(len(nlp(sentence))) if not nlp(sentence)[i].is_stop]\n",
    "    return new_text\n"
   ]
  },
  {
   "cell_type": "markdown",
   "id": "3cf9dcf4",
   "metadata": {},
   "source": [
    "## Tokenising the words and mapping the POS Tags\n",
    "POS tags are the parts of speech tag\n",
    "* Example: I like cats \\\n",
    "In this sentence,\\\n",
    "I -> Noun\\\n",
    "like -> Verb\\\n",
    "cats -> Noun\n",
    "\n",
    "## Lemmatisation \n",
    "It involves finding the root of a given word \\\n",
    "Example: Lemma of \"caring\" is \"care\""
   ]
  },
  {
   "cell_type": "code",
   "execution_count": 1663,
   "id": "692a2d2f",
   "metadata": {},
   "outputs": [],
   "source": [
    "def apply_lemmatization(sentence):\n",
    "    pos_tags_list = {\n",
    "        \"NOUN\": \"n\",\n",
    "        \"VERB\": \"v\",\n",
    "        \"ADJ\" : \"a\",\n",
    "        \"ADV\" : \"r\"\n",
    "    }\n",
    "    \n",
    "    new_text = [(word[0].lemma_,pos_tags_list[word[1]]) for word in sentence]\n",
    "    return new_text"
   ]
  },
  {
   "cell_type": "markdown",
   "id": "cb774e27",
   "metadata": {},
   "source": [
    "## Finding similar words\n",
    "This finds similar words in 2 sentences using synsets. \\\n",
    "Example: hello and greetings\\\n",
    "These two are different words but they are connected and have the same meaning"
   ]
  },
  {
   "cell_type": "code",
   "execution_count": 1664,
   "id": "ccfe9818",
   "metadata": {},
   "outputs": [],
   "source": [
    "def most_similar(word):\n",
    "    w = word[0]\n",
    "    pos = word[1]\n",
    "    \n",
    "    syn1 = wn.synsets(w,pos=pos)\n",
    "    synset = [x.name().split('.')[0] for x in syn1]\n",
    "    \n",
    "    hypernym = [x.name().split('.')[0] for x in syn1[0].hypernyms()]\n",
    "    synset.extend(hypernym)\n",
    "    \n",
    "    if pos=='n':\n",
    "        syn2 = wn.synsets(w,pos='v')\n",
    "        synset2 = [x.name().split('.')[0] for x in syn2]\n",
    "        synset.extend(synset2)\n",
    "    \n",
    "    synset = [text for text in synset if text!=w]\n",
    "    \n",
    "    return list(set(synset))"
   ]
  },
  {
   "cell_type": "code",
   "execution_count": 1665,
   "id": "8806b64e",
   "metadata": {},
   "outputs": [],
   "source": [
    "def check_similarity(s1, s2):\n",
    "    similardict = {}\n",
    "    \n",
    "    unique_words = []\n",
    "    for w in s1:\n",
    "        if w not in unique_words:\n",
    "            unique_words.append(w)\n",
    "            \n",
    "    for w in s2:\n",
    "        if w not in unique_words:\n",
    "            unique_words.append(w)\n",
    "            \n",
    "    for i in range(len(s1)):\n",
    "        word = s1[i]\n",
    "        \n",
    "        if word not in s2:\n",
    "            similar_words = most_similar(word)\n",
    "            \n",
    "            for word1 in s2:\n",
    "                similar_words1 = most_similar(word1)\n",
    "                match = list(set(similar_words).intersection(similar_words1))\n",
    "                \n",
    "                if len(match)>0:\n",
    "                    s1[i] = word1\n",
    "                    similardict[word]=word1\n",
    "    \n",
    "    return s1, s2, similardict"
   ]
  },
  {
   "cell_type": "markdown",
   "id": "432b1917",
   "metadata": {},
   "source": [
    "## Finding count of words\n",
    "Given the word, this function finds how many times the same word appears in the sentence \\\n",
    "all_tokens = sentence1 + sentence2 \\\n",
    "This forms the total vocabulary for this given 2 sentences"
   ]
  },
  {
   "cell_type": "code",
   "execution_count": 1666,
   "id": "06892b8d",
   "metadata": {},
   "outputs": [],
   "source": [
    "def combine_tokens(t1, t2):\n",
    "    all_tokens_count = dict(Counter(t1+t2))\n",
    "    print(\"The count of all words in 2 texts: \\n\",all_tokens_count)\n",
    "    \n",
    "    t1_count = dict(zip(all_tokens_count.keys(),[0]*len(all_tokens_count)))\n",
    "    t2_count = dict(zip(all_tokens_count.keys(),[0]*len(all_tokens_count)))\n",
    "    \n",
    "    all_tokens = []\n",
    "    for w in t1:\n",
    "        if w not in all_tokens:\n",
    "            all_tokens.append(w)\n",
    "        t1_count[w] += 1\n",
    "            \n",
    "    for w in t2:\n",
    "        if w not in all_tokens:\n",
    "            all_tokens.append(w)\n",
    "        t2_count[w] += 1\n",
    "    \n",
    "    print(\"\\nThe unique words are: \\n\",all_tokens)\n",
    "    \n",
    "    return all_tokens, all_tokens_count, t1_count, t2_count"
   ]
  },
  {
   "cell_type": "markdown",
   "id": "cdf0ae06",
   "metadata": {},
   "source": [
    "## Finding distribution\n",
    "This returns distribution of the each word in the whole sentence"
   ]
  },
  {
   "cell_type": "code",
   "execution_count": 1667,
   "id": "bb64a94a",
   "metadata": {},
   "outputs": [],
   "source": [
    "def create_distribution(sentence,all_tokens,name):\n",
    "    dist = dict(zip(all_tokens,[0]*len(all_tokens)))\n",
    "    \n",
    "    for word in sentence:\n",
    "        dist[word]+=1\n",
    "    \n",
    "    for key in dist:\n",
    "        dist[key]/=len(sentence)\n",
    "    \n",
    "    print(\"The word distribution for \",name,\" is: \\n\",dist,\"\\n\")\n",
    "    print(sentence)\n",
    "    return dist"
   ]
  },
  {
   "cell_type": "markdown",
   "id": "324270ff",
   "metadata": {},
   "source": [
    "## Laplace Smoothing\n",
    "We are applying Laplace Smoothing because given a word in a vocabulary, it is possible that it is not present in the given sentence. This leads to a value of zero in its distribution. But KL Divergence is defined only for distribution which is not equal to zero.\\\n",
    "Hence it is important to apply Laplace smoothing. It returns a value for a X instead of 0\\\n",
    "Here we are choosing alpha=0.05. Because if it is 1, it increases the likelihood of it present in the sentence"
   ]
  },
  {
   "cell_type": "code",
   "execution_count": 1668,
   "id": "9c6b1b87",
   "metadata": {},
   "outputs": [],
   "source": [
    "def laplace_smoothing(count,tokens_count,alpha=0.05):\n",
    "    distribution={}\n",
    "    \n",
    "    lenCorpus=0\n",
    "    for word,p in count.items():\n",
    "        if p!=0:\n",
    "            lenCorpus+=1\n",
    "    \n",
    "    for word,p in count.items():    \n",
    "        distribution[word] = (count[word] + alpha)/(lenCorpus + len(tokens_count)*alpha)\n",
    "    \n",
    "    return distribution"
   ]
  },
  {
   "cell_type": "markdown",
   "id": "d8a2f919",
   "metadata": {},
   "source": [
    "## Calculating KL Divergence\n",
    "Given 2 distributions, it returns a value greater than 0 which defines how close 2 sentences are."
   ]
  },
  {
   "cell_type": "code",
   "execution_count": 1669,
   "id": "a2466b63",
   "metadata": {},
   "outputs": [],
   "source": [
    "def KLDivergence(dist1,dist2):\n",
    "    val=0\n",
    "    \n",
    "    dist1 = list(dist1)\n",
    "    dist2 = list(dist2)\n",
    "    \n",
    "    for i in range(len(dist1)):\n",
    "        val += dist1[i] * np.log(dist1[i]/dist2[i])\n",
    "        \n",
    "    return val"
   ]
  },
  {
   "cell_type": "markdown",
   "id": "e54e143c",
   "metadata": {},
   "source": [
    "## Plot Distribution"
   ]
  },
  {
   "cell_type": "code",
   "execution_count": 1670,
   "id": "1615a2e2",
   "metadata": {},
   "outputs": [],
   "source": [
    "def plot_distribution(x1, y1, x2, y2, xlab, ylab, title1, title2):\n",
    "    plt.figure(figsize=(15,4))\n",
    "    \n",
    "    plt.subplot(1,2,1)\n",
    "    plt.bar(x1,y1)\n",
    "    plt.xlabel(xlab)\n",
    "    plt.ylabel(ylab)\n",
    "    plt.title(title1)\n",
    "    \n",
    "    plt.subplot(1,2,2)\n",
    "    plt.bar(x2,y2)\n",
    "    plt.xlabel(xlab)\n",
    "    plt.ylabel(ylab)\n",
    "    plt.title(title2)"
   ]
  },
  {
   "cell_type": "markdown",
   "id": "30597160",
   "metadata": {},
   "source": [
    "## Call all the above functions"
   ]
  },
  {
   "cell_type": "code",
   "execution_count": 1671,
   "id": "352e0d85",
   "metadata": {},
   "outputs": [],
   "source": [
    "def calcKLD(sent1, sent2):\n",
    "    print(\"*\"*30,\" Tokenising and POS(Parts of Speech) Tagging \",\"*\"*30,\"\\n\")\n",
    "    pos1 = nltk.pos_tag(word_tokenize(sent1.lower()),tagset='universal')\n",
    "    pos2 = nltk.pos_tag(word_tokenize(sent2.lower()),tagset='universal')\n",
    "    print(\"Sentence 1:\")\n",
    "    pprint(pos1)\n",
    "    print(\"\\nSentence 2:\")\n",
    "    pprint(pos2)\n",
    "    \n",
    "    print(\"\\n\",\"*\"*20,\" Removing StopWords(a, the, ...) and (Adjectives, Adverbs) \",\"*\"*20,\"\\n\")\n",
    "    without_stop_words1 = remove_stop_words(sent1,pos1)\n",
    "    lemma_tokens1 = apply_lemmatization(without_stop_words1)\n",
    "    print(\"Sentence 1: \",lemma_tokens1)\n",
    "    \n",
    "    without_stop_words2 = remove_stop_words(sent2,pos2)\n",
    "    lemma_tokens2 = apply_lemmatization(without_stop_words2)\n",
    "    print(\"Sentence 2: \",lemma_tokens2)\n",
    "    \n",
    "    \n",
    "    s1,s2,dictio = check_similarity(lemma_tokens1,lemma_tokens2)\n",
    "\n",
    "    print(\"\\n\",\"*\"*30,\" Finding Similar Words between sentences if any \",\"*\"*30,\"\\n\")\n",
    "    if len(dictio)>0:\n",
    "        print(\"Found similar words\")\n",
    "    else:\n",
    "        print(\"No similar words found\") \n",
    "        \n",
    "    pprint(dictio)\n",
    "    print()\n",
    "        \n",
    "    all_tokens, all_tokens_count, sent1_count, sent2_count = combine_tokens(s1,s2)\n",
    "    \n",
    "    print(\"\\n\",\"*\"*30,\" Finding distribution of words \",\"*\"*30,\"\\n\")\n",
    "    \n",
    "    dist1 = create_distribution(lemma_tokens1,all_tokens,\"text 1\")\n",
    "    dist2 = create_distribution(lemma_tokens2,all_tokens,\"text 2\")\n",
    "    \n",
    "    print(\"\\n\",\"*\"*30,\" Applying Laplace-Smoothing for Unigram Words \",\"*\"*30,\"\\n\")\n",
    "    if (0 in dist1.values()):\n",
    "        dist1 = laplace_smoothing(sent1_count, all_tokens_count)\n",
    "    print(\"Distribution for sentence 1:\")\n",
    "    pprint(dist1)\n",
    "    \n",
    "    if (0 in dist2.values()):\n",
    "        dist2 = laplace_smoothing(sent2_count, all_tokens_count)\n",
    "    print(\"\\nDistribution for sentence 2:\")\n",
    "    pprint(dist2)\n",
    "    \n",
    "    \n",
    "    return dist1, dist2"
   ]
  },
  {
   "cell_type": "markdown",
   "id": "6905f44e",
   "metadata": {},
   "source": [
    "## Lets try with an example"
   ]
  },
  {
   "cell_type": "code",
   "execution_count": 1672,
   "id": "a127dc56",
   "metadata": {},
   "outputs": [
    {
     "name": "stdout",
     "output_type": "stream",
     "text": [
      "******************************  Tokenising and POS(Parts of Speech) Tagging  ****************************** \n",
      "\n",
      "Sentence 1:\n",
      "[('a', 'DET'),\n",
      " ('man', 'NOUN'),\n",
      " ('was', 'VERB'),\n",
      " ('chased', 'VERB'),\n",
      " ('by', 'ADP'),\n",
      " ('a', 'DET'),\n",
      " ('dog', 'NOUN')]\n",
      "\n",
      "Sentence 2:\n",
      "[('a', 'DET'),\n",
      " ('dog', 'NOUN'),\n",
      " ('chased', 'VERB'),\n",
      " ('a', 'DET'),\n",
      " ('man', 'NOUN')]\n",
      "\n",
      " ********************  Removing StopWords(a, the, ...) and (Adjectives, Adverbs)  ******************** \n",
      "\n",
      "Sentence 1:  [('man', 'n'), ('chase', 'v'), ('dog', 'n')]\n",
      "Sentence 2:  [('dog', 'n'), ('chase', 'v'), ('man', 'n')]\n",
      "\n",
      " ******************************  Finding Similar Words between sentences if any  ****************************** \n",
      "\n",
      "No similar words found\n",
      "{}\n",
      "\n",
      "The count of all words in 2 texts: \n",
      " {('man', 'n'): 2, ('chase', 'v'): 2, ('dog', 'n'): 2}\n",
      "\n",
      "The unique words are: \n",
      " [('man', 'n'), ('chase', 'v'), ('dog', 'n')]\n",
      "\n",
      " ******************************  Finding distribution of words  ****************************** \n",
      "\n",
      "The word distribution for  text 1  is: \n",
      " {('man', 'n'): 0.3333333333333333, ('chase', 'v'): 0.3333333333333333, ('dog', 'n'): 0.3333333333333333} \n",
      "\n",
      "[('man', 'n'), ('chase', 'v'), ('dog', 'n')]\n",
      "The word distribution for  text 2  is: \n",
      " {('man', 'n'): 0.3333333333333333, ('chase', 'v'): 0.3333333333333333, ('dog', 'n'): 0.3333333333333333} \n",
      "\n",
      "[('dog', 'n'), ('chase', 'v'), ('man', 'n')]\n",
      "\n",
      " ******************************  Applying Laplace-Smoothing for Unigram Words  ****************************** \n",
      "\n",
      "Distribution for sentence 1:\n",
      "{('chase', 'v'): 0.3333333333333333,\n",
      " ('dog', 'n'): 0.3333333333333333,\n",
      " ('man', 'n'): 0.3333333333333333}\n",
      "\n",
      "Distribution for sentence 2:\n",
      "{('chase', 'v'): 0.3333333333333333,\n",
      " ('dog', 'n'): 0.3333333333333333,\n",
      " ('man', 'n'): 0.3333333333333333}\n"
     ]
    }
   ],
   "source": [
    "sent1 = \"A man was chased by a dog\"\n",
    "sent2 = \"A dog chased a man\"\n",
    "dist1, dist2 = calcKLD(sent1,sent2)"
   ]
  },
  {
   "cell_type": "code",
   "execution_count": 1673,
   "id": "2a3ce37d",
   "metadata": {},
   "outputs": [
    {
     "data": {
      "image/png": "[encoded data removed]",
      "text/plain": [
       "<Figure size 1500x400 with 2 Axes>"
      ]
     },
     "metadata": {},
     "output_type": "display_data"
    }
   ],
   "source": [
    "x1=[str(i[0]) for i in dist1.keys()]\n",
    "y1=np.array(list(dist1.values()))\n",
    "\n",
    "x2=[str(i[0]) for i in dist2.keys()]\n",
    "y2=np.array(list(dist2.values()))\n",
    "\n",
    "plot_distribution(x1,y1,x2,y2,\"Words\",\"Distribution\",sent1,sent2)\n",
    "\n",
    "\n",
    "kl = KLDivergence(dist1.values(), dist2.values())\n",
    "kl_reverse = KLDivergence(dist2.values(), dist1.values())"
   ]
  },
  {
   "cell_type": "markdown",
   "id": "d3020118",
   "metadata": {},
   "source": [
    "## We can see here that 2 sentences are having the same meaning and KLD is 0.0 as expected"
   ]
  },
  {
   "cell_type": "code",
   "execution_count": 1674,
   "id": "d8b9bc07",
   "metadata": {
    "scrolled": true
   },
   "outputs": [
    {
     "name": "stdout",
     "output_type": "stream",
     "text": [
      "\n",
      " ******************************  Finding KL Divergence  ****************************** \n",
      "\n",
      "Sentence 1:  A man was chased by a dog\n",
      "Sentence 2:  A dog chased a man\n",
      "\n",
      "KL Divergence 0.0\n",
      "\n",
      "KL Divergence Reverse 0.0\n"
     ]
    }
   ],
   "source": [
    "print(\"\\n\",\"*\"*30,\" Finding KL Divergence \",\"*\"*30,\"\\n\")\n",
    "print(\"Sentence 1: \",sent1)\n",
    "print(\"Sentence 2: \",sent2)\n",
    "print(\"\\nKL Divergence\", kl)\n",
    "print(\"\\nKL Divergence Reverse\", kl_reverse)"
   ]
  },
  {
   "cell_type": "markdown",
   "id": "a26dacb3",
   "metadata": {},
   "source": [
    "## Here is the second example"
   ]
  },
  {
   "cell_type": "markdown",
   "id": "dd273270",
   "metadata": {},
   "source": [
    "### Here \"like\" and \"wish\" almost have some shared meaning. Lets check this"
   ]
  },
  {
   "cell_type": "code",
   "execution_count": 1682,
   "id": "883d374b",
   "metadata": {
    "collapsed": true
   },
   "outputs": [
    {
     "name": "stdout",
     "output_type": "stream",
     "text": [
      "******************************  Tokenising and POS(Parts of Speech) Tagging  ****************************** \n",
      "\n",
      "Sentence 1:\n",
      "[('i', 'NOUN'),\n",
      " ('like', 'VERB'),\n",
      " ('cats', 'NOUN'),\n",
      " ('and', 'CONJ'),\n",
      " ('dogs', 'NOUN')]\n",
      "\n",
      "Sentence 2:\n",
      "[('i', 'ADJ'),\n",
      " ('wish', 'VERB'),\n",
      " ('i', 'NOUN'),\n",
      " ('have', 'VERB'),\n",
      " ('a', 'DET'),\n",
      " ('cat', 'NOUN')]\n",
      "\n",
      " ********************  Removing StopWords(a, the, ...) and (Adjectives, Adverbs)  ******************** \n",
      "\n",
      "Sentence 1:  [('like', 'v'), ('cat', 'n'), ('dog', 'n')]\n",
      "Sentence 2:  [('wish', 'v'), ('cat', 'n')]\n",
      "\n",
      " ******************************  Finding Similar Words between sentences if any  ****************************** \n",
      "\n",
      "Found similar words\n",
      "{('like', 'v'): ('wish', 'v')}\n",
      "\n",
      "The count of all words in 2 texts: \n",
      " {('wish', 'v'): 2, ('cat', 'n'): 2, ('dog', 'n'): 1}\n",
      "\n",
      "The unique words are: \n",
      " [('wish', 'v'), ('cat', 'n'), ('dog', 'n')]\n",
      "\n",
      " ******************************  Finding distribution of words  ****************************** \n",
      "\n",
      "The word distribution for  text 1  is: \n",
      " {('wish', 'v'): 0.3333333333333333, ('cat', 'n'): 0.3333333333333333, ('dog', 'n'): 0.3333333333333333} \n",
      "\n",
      "[('wish', 'v'), ('cat', 'n'), ('dog', 'n')]\n",
      "The word distribution for  text 2  is: \n",
      " {('wish', 'v'): 0.5, ('cat', 'n'): 0.5, ('dog', 'n'): 0.0} \n",
      "\n",
      "[('wish', 'v'), ('cat', 'n')]\n",
      "\n",
      " ******************************  Applying Laplace-Smoothing for Unigram Words  ****************************** \n",
      "\n",
      "Distribution for sentence 1:\n",
      "{('cat', 'n'): 0.3333333333333333,\n",
      " ('dog', 'n'): 0.3333333333333333,\n",
      " ('wish', 'v'): 0.3333333333333333}\n",
      "\n",
      "Distribution for sentence 2:\n",
      "{('cat', 'n'): 0.48837209302325585,\n",
      " ('dog', 'n'): 0.023255813953488375,\n",
      " ('wish', 'v'): 0.48837209302325585}\n"
     ]
    }
   ],
   "source": [
    "sent1 = \"I like cats and dogs\"\n",
    "sent2 = \"I wish I have a cat\"\n",
    "dist1, dist2 = calcKLD(sent1,sent2)"
   ]
  },
  {
   "cell_type": "code",
   "execution_count": 1676,
   "id": "a9977ab3",
   "metadata": {
    "scrolled": true
   },
   "outputs": [
    {
     "data": {
      "image/png": "[encoded data removed]",
      "text/plain": [
       "<Figure size 1500x400 with 2 Axes>"
      ]
     },
     "metadata": {},
     "output_type": "display_data"
    }
   ],
   "source": [
    "x1=[str(i[0]) for i in dist1.keys()]\n",
    "y1=np.array(list(dist1.values()))\n",
    "\n",
    "x2=[str(i[0]) for i in dist2.keys()]\n",
    "y2=np.array(list(dist2.values()))\n",
    "\n",
    "plot_distribution(x1,y1,x2,y2,\"Words\",\"Distribution\",sent1,sent2)\n",
    "\n",
    "kl = KLDivergence(dist1.values(), dist2.values())\n",
    "kl_reverse = KLDivergence(dist2.values(), dist1.values())"
   ]
  },
  {
   "cell_type": "markdown",
   "id": "d2243bcb",
   "metadata": {},
   "source": [
    "## The KL is not zero. But it is close to zero. As expected, they have the same meaning"
   ]
  },
  {
   "cell_type": "code",
   "execution_count": 1677,
   "id": "346d1981",
   "metadata": {},
   "outputs": [
    {
     "name": "stdout",
     "output_type": "stream",
     "text": [
      "\n",
      " ******************************  Finding KL Divergence  ****************************** \n",
      "\n",
      "Sentence 1:  I like cats and dogs\n",
      "Sentence 2:  I wish I have a cat\n",
      "\n",
      "KL Divergence 0.6329062018765038\n",
      "\n",
      "KL Divergence Reverse 0.31113176330905357\n"
     ]
    }
   ],
   "source": [
    "print(\"\\n\",\"*\"*30,\" Finding KL Divergence \",\"*\"*30,\"\\n\")\n",
    "print(\"Sentence 1: \",sent1)\n",
    "print(\"Sentence 2: \",sent2)\n",
    "print(\"\\nKL Divergence\", kl)\n",
    "print(\"\\nKL Divergence Reverse\", kl_reverse)"
   ]
  },
  {
   "cell_type": "markdown",
   "id": "1275c0b1",
   "metadata": {},
   "source": [
    "## Here is the third example"
   ]
  },
  {
   "cell_type": "code",
   "execution_count": 1678,
   "id": "ad0d6d40",
   "metadata": {
    "collapsed": true
   },
   "outputs": [
    {
     "name": "stdout",
     "output_type": "stream",
     "text": [
      "******************************  Tokenising and POS(Parts of Speech) Tagging  ****************************** \n",
      "\n",
      "Sentence 1:\n",
      "[('malls', 'NOUN'),\n",
      " ('are', 'VERB'),\n",
      " ('great', 'ADJ'),\n",
      " ('places', 'NOUN'),\n",
      " ('to', 'PRT'),\n",
      " ('shop', 'VERB'),\n",
      " ('i', 'NOUN'),\n",
      " ('can', 'VERB'),\n",
      " ('find', 'VERB'),\n",
      " ('everything', 'NOUN'),\n",
      " ('i', 'NOUN'),\n",
      " ('need', 'VERB'),\n",
      " ('under', 'ADP'),\n",
      " ('one', 'NUM'),\n",
      " ('roof', 'NOUN')]\n",
      "\n",
      "Sentence 2:\n",
      "[('should', 'VERB'),\n",
      " ('we', 'PRON'),\n",
      " ('start', 'VERB'),\n",
      " ('class', 'NOUN'),\n",
      " ('now', 'ADV'),\n",
      " ('or', 'CONJ'),\n",
      " ('should', 'VERB'),\n",
      " ('we', 'PRON'),\n",
      " ('wait', 'VERB'),\n",
      " ('for', 'ADP'),\n",
      " ('everyone', 'NOUN'),\n",
      " ('to', 'PRT'),\n",
      " ('get', 'VERB'),\n",
      " ('here', 'ADV')]\n",
      "\n",
      " ********************  Removing StopWords(a, the, ...) and (Adjectives, Adverbs)  ******************** \n",
      "\n",
      "Sentence 1:  [('mall', 'n'), ('great', 'a'), ('place', 'n'), ('shop', 'v'), ('find', 'v'), ('need', 'v'), ('roof', 'n')]\n",
      "Sentence 2:  [('start', 'v'), ('class', 'n'), ('wait', 'v')]\n",
      "\n",
      " ******************************  Finding Similar Words between sentences if any  ****************************** \n",
      "\n",
      "No similar words found\n",
      "{}\n",
      "\n",
      "The count of all words in 2 texts: \n",
      " {('mall', 'n'): 1, ('great', 'a'): 1, ('place', 'n'): 1, ('shop', 'v'): 1, ('find', 'v'): 1, ('need', 'v'): 1, ('roof', 'n'): 1, ('start', 'v'): 1, ('class', 'n'): 1, ('wait', 'v'): 1}\n",
      "\n",
      "The unique words are: \n",
      " [('mall', 'n'), ('great', 'a'), ('place', 'n'), ('shop', 'v'), ('find', 'v'), ('need', 'v'), ('roof', 'n'), ('start', 'v'), ('class', 'n'), ('wait', 'v')]\n",
      "\n",
      " ******************************  Finding distribution of words  ****************************** \n",
      "\n",
      "The word distribution for  text 1  is: \n",
      " {('mall', 'n'): 0.14285714285714285, ('great', 'a'): 0.14285714285714285, ('place', 'n'): 0.14285714285714285, ('shop', 'v'): 0.14285714285714285, ('find', 'v'): 0.14285714285714285, ('need', 'v'): 0.14285714285714285, ('roof', 'n'): 0.14285714285714285, ('start', 'v'): 0.0, ('class', 'n'): 0.0, ('wait', 'v'): 0.0} \n",
      "\n",
      "[('mall', 'n'), ('great', 'a'), ('place', 'n'), ('shop', 'v'), ('find', 'v'), ('need', 'v'), ('roof', 'n')]\n",
      "The word distribution for  text 2  is: \n",
      " {('mall', 'n'): 0.0, ('great', 'a'): 0.0, ('place', 'n'): 0.0, ('shop', 'v'): 0.0, ('find', 'v'): 0.0, ('need', 'v'): 0.0, ('roof', 'n'): 0.0, ('start', 'v'): 0.3333333333333333, ('class', 'n'): 0.3333333333333333, ('wait', 'v'): 0.3333333333333333} \n",
      "\n",
      "[('start', 'v'), ('class', 'n'), ('wait', 'v')]\n",
      "\n",
      " ******************************  Applying Laplace-Smoothing for Unigram Words  ****************************** \n",
      "\n",
      "Distribution for sentence 1:\n",
      "{('class', 'n'): 0.006666666666666667,\n",
      " ('find', 'v'): 0.14,\n",
      " ('great', 'a'): 0.14,\n",
      " ('mall', 'n'): 0.14,\n",
      " ('need', 'v'): 0.14,\n",
      " ('place', 'n'): 0.14,\n",
      " ('roof', 'n'): 0.14,\n",
      " ('shop', 'v'): 0.14,\n",
      " ('start', 'v'): 0.006666666666666667,\n",
      " ('wait', 'v'): 0.006666666666666667}\n",
      "\n",
      "Distribution for sentence 2:\n",
      "{('class', 'n'): 0.3,\n",
      " ('find', 'v'): 0.014285714285714287,\n",
      " ('great', 'a'): 0.014285714285714287,\n",
      " ('mall', 'n'): 0.014285714285714287,\n",
      " ('need', 'v'): 0.014285714285714287,\n",
      " ('place', 'n'): 0.014285714285714287,\n",
      " ('roof', 'n'): 0.014285714285714287,\n",
      " ('shop', 'v'): 0.014285714285714287,\n",
      " ('start', 'v'): 0.3,\n",
      " ('wait', 'v'): 0.3}\n"
     ]
    }
   ],
   "source": [
    "sent1 = \"Malls are great places to shop I can find everything I need under one roof\"\n",
    "sent2 = \"Should we start class now or should we wait for everyone to get here\"\n",
    "dist1, dist2 = calcKLD(sent1,sent2)"
   ]
  },
  {
   "cell_type": "code",
   "execution_count": 1679,
   "id": "3a4515af",
   "metadata": {},
   "outputs": [
    {
     "data": {
      "image/png": "[encoded data removed]",
      "text/plain": [
       "<Figure size 1500x400 with 2 Axes>"
      ]
     },
     "metadata": {},
     "output_type": "display_data"
    }
   ],
   "source": [
    "x1=[str(i[0]) for i in dist1.keys()]\n",
    "y1=np.array(list(dist1.values()))\n",
    "\n",
    "x2=[str(i[0]) for i in dist2.keys()]\n",
    "y2=np.array(list(dist2.values()))\n",
    "\n",
    "plot_distribution(x1,y1,x2,y2,\"Words\",\"Distribution\",sent1,sent2)\n",
    "\n",
    "kl = KLDivergence(dist1.values(), dist2.values())\n",
    "kl_reverse = KLDivergence(dist2.values(), dist1.values())"
   ]
  },
  {
   "cell_type": "markdown",
   "id": "01224087",
   "metadata": {},
   "source": [
    "## The KL is high, therefore the 2 distributions are not the same"
   ]
  },
  {
   "cell_type": "code",
   "execution_count": 1680,
   "id": "bdfd881c",
   "metadata": {
    "scrolled": true
   },
   "outputs": [
    {
     "name": "stdout",
     "output_type": "stream",
     "text": [
      "\n",
      " ******************************  Finding KL Divergence  ****************************** \n",
      "\n",
      "Sentence 1:  Malls are great places to shop I can find everything I need under one roof\n",
      "Sentence 2:  Should we start class now or should we wait for everyone to get here\n",
      "\n",
      "KL Divergence 2.1606014881675892\n",
      "\n",
      "KL Divergence Reverse 3.197758002225635\n"
     ]
    }
   ],
   "source": [
    "print(\"\\n\",\"*\"*30,\" Finding KL Divergence \",\"*\"*30,\"\\n\")\n",
    "print(\"Sentence 1: \",sent1)\n",
    "print(\"Sentence 2: \",sent2)\n",
    "print(\"\\nKL Divergence\", kl)\n",
    "print(\"\\nKL Divergence Reverse\", kl_reverse)"
   ]
  },
  {
   "cell_type": "code",
   "execution_count": null,
   "id": "80908ab5",
   "metadata": {},
   "outputs": [],
   "source": []
  }
 ],
 "metadata": {
  "kernelspec": {
   "display_name": "Python 3 (ipykernel)",
   "language": "python",
   "name": "python3"
  },
  "language_info": {
   "codemirror_mode": {
    "name": "ipython",
    "version": 3
   },
   "file_extension": ".py",
   "mimetype": "text/x-python",
   "name": "python",
   "nbconvert_exporter": "python",
   "pygments_lexer": "ipython3",
   "version": "3.10.9"
  }
 },
 "nbformat": 4,
 "nbformat_minor": 5
}
